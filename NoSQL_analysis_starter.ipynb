{
 "cells": [
  {
   "cell_type": "markdown",
   "id": "9a57c4c6",
   "metadata": {},
   "source": [
    "# Eat Safe, Love"
   ]
  },
  {
   "cell_type": "markdown",
   "id": "064ef857",
   "metadata": {},
   "source": [
    "## Notebook Set Up"
   ]
  },
  {
   "cell_type": "code",
   "execution_count": 147,
   "id": "3ecdd008",
   "metadata": {},
   "outputs": [],
   "source": [
    "from pymongo import MongoClient\n",
    "import pandas as pd\n",
    "from pprint import pprint"
   ]
  },
  {
   "cell_type": "code",
   "execution_count": 148,
   "id": "59390c4a",
   "metadata": {},
   "outputs": [],
   "source": [
    "# Create an instance of MongoClient\n",
    "mongo = MongoClient(port=27017)"
   ]
  },
  {
   "cell_type": "code",
   "execution_count": 149,
   "id": "71e373c1",
   "metadata": {},
   "outputs": [],
   "source": [
    "# assign the uk_food database to a variable name\n",
    "db = mongo['uk_food']"
   ]
  },
  {
   "cell_type": "code",
   "execution_count": 150,
   "id": "18ab463c",
   "metadata": {},
   "outputs": [
    {
     "data": {
      "text/plain": [
       "['establishments']"
      ]
     },
     "execution_count": 150,
     "metadata": {},
     "output_type": "execute_result"
    }
   ],
   "source": [
    "# review the collections in our database\n",
    "db.list_collection_names()"
   ]
  },
  {
   "cell_type": "code",
   "execution_count": 151,
   "id": "11c9f11b",
   "metadata": {},
   "outputs": [],
   "source": [
    "# assign the collection to a variable\n",
    "establishments = db['establishments']"
   ]
  },
  {
   "cell_type": "markdown",
   "id": "d5671434",
   "metadata": {},
   "source": [
    "## Part 3: Exploratory Analysis\n",
    "Unless otherwise stated, for each question: \n",
    "* Use `count_documents` to display the number of documents contained in the result.\n",
    "* Display the first document in the results using `pprint`.\n",
    "* Convert the result to a Pandas DataFrame, print the number of rows in the DataFrame, and display the first 10 rows."
   ]
  },
  {
   "cell_type": "markdown",
   "id": "314bd884",
   "metadata": {},
   "source": [
    "### 1. Which establishments have a hygiene score equal to 20?"
   ]
  },
  {
   "cell_type": "code",
   "execution_count": 152,
   "id": "c2da7648",
   "metadata": {},
   "outputs": [
    {
     "name": "stdout",
     "output_type": "stream",
     "text": [
      "Number of documents with hygiene score 20: 41\n",
      "\n",
      "{'BusinessName': 'The Chase Rest Home',\n",
      " '_id': ObjectId('66c67670051c039cde4b10c1'),\n",
      " 'scores': {'Hygiene': 20}}\n"
     ]
    }
   ],
   "source": [
    "# Find the establishments with a hygiene score of 20\n",
    "hygiene_query = {'scores.Hygiene': 20}\n",
    "fields = {'BusinessName': 1, 'scores.Hygiene': 1}\n",
    "\n",
    "results=establishments.find(hygiene_query, fields)\n",
    "\n",
    "# Use hygiene_count to display the total no. of establishemnts with score of 20.\n",
    "hygiene_results = establishments.find(hygiene_query, fields)\n",
    "hygiene_count = establishments.count_documents(hygiene_query)\n",
    "\n",
    "#Print results \n",
    "print(f\"Number of documents with hygiene score 20: {hygiene_count}\\n\")\n",
    "pprint(hygiene_results[0])"
   ]
  },
  {
   "cell_type": "code",
   "execution_count": 153,
   "id": "a6e5cece",
   "metadata": {},
   "outputs": [
    {
     "name": "stdout",
     "output_type": "stream",
     "text": [
      "Total rows in DataFrame: 41\n"
     ]
    },
    {
     "data": {
      "text/html": [
       "<div>\n",
       "<style scoped>\n",
       "    .dataframe tbody tr th:only-of-type {\n",
       "        vertical-align: middle;\n",
       "    }\n",
       "\n",
       "    .dataframe tbody tr th {\n",
       "        vertical-align: top;\n",
       "    }\n",
       "\n",
       "    .dataframe thead th {\n",
       "        text-align: right;\n",
       "    }\n",
       "</style>\n",
       "<table border=\"1\" class=\"dataframe\">\n",
       "  <thead>\n",
       "    <tr style=\"text-align: right;\">\n",
       "      <th></th>\n",
       "      <th>_id</th>\n",
       "      <th>BusinessName</th>\n",
       "      <th>scores</th>\n",
       "    </tr>\n",
       "  </thead>\n",
       "  <tbody>\n",
       "    <tr>\n",
       "      <th>0</th>\n",
       "      <td>66c67670051c039cde4b10c1</td>\n",
       "      <td>The Chase Rest Home</td>\n",
       "      <td>{'Hygiene': 20}</td>\n",
       "    </tr>\n",
       "    <tr>\n",
       "      <th>1</th>\n",
       "      <td>66c67670051c039cde4b1442</td>\n",
       "      <td>Brenalwood</td>\n",
       "      <td>{'Hygiene': 20}</td>\n",
       "    </tr>\n",
       "    <tr>\n",
       "      <th>2</th>\n",
       "      <td>66c67670051c039cde4b174d</td>\n",
       "      <td>Melrose Hotel</td>\n",
       "      <td>{'Hygiene': 20}</td>\n",
       "    </tr>\n",
       "    <tr>\n",
       "      <th>3</th>\n",
       "      <td>66c67670051c039cde4b193b</td>\n",
       "      <td>Seaford Pizza</td>\n",
       "      <td>{'Hygiene': 20}</td>\n",
       "    </tr>\n",
       "    <tr>\n",
       "      <th>4</th>\n",
       "      <td>66c67670051c039cde4b1949</td>\n",
       "      <td>Golden Palace</td>\n",
       "      <td>{'Hygiene': 20}</td>\n",
       "    </tr>\n",
       "    <tr>\n",
       "      <th>5</th>\n",
       "      <td>66c67670051c039cde4b22e1</td>\n",
       "      <td>Ashby's Butchers</td>\n",
       "      <td>{'Hygiene': 20}</td>\n",
       "    </tr>\n",
       "    <tr>\n",
       "      <th>6</th>\n",
       "      <td>66c67670051c039cde4b2506</td>\n",
       "      <td>South Sea Express Cuisine</td>\n",
       "      <td>{'Hygiene': 20}</td>\n",
       "    </tr>\n",
       "    <tr>\n",
       "      <th>7</th>\n",
       "      <td>66c67670051c039cde4b3a34</td>\n",
       "      <td>Golden Palace</td>\n",
       "      <td>{'Hygiene': 20}</td>\n",
       "    </tr>\n",
       "    <tr>\n",
       "      <th>8</th>\n",
       "      <td>66c67670051c039cde4b3e78</td>\n",
       "      <td>The Tulip Tree</td>\n",
       "      <td>{'Hygiene': 20}</td>\n",
       "    </tr>\n",
       "    <tr>\n",
       "      <th>9</th>\n",
       "      <td>66c67670051c039cde4b468b</td>\n",
       "      <td>F &amp; S</td>\n",
       "      <td>{'Hygiene': 20}</td>\n",
       "    </tr>\n",
       "  </tbody>\n",
       "</table>\n",
       "</div>"
      ],
      "text/plain": [
       "                        _id               BusinessName           scores\n",
       "0  66c67670051c039cde4b10c1        The Chase Rest Home  {'Hygiene': 20}\n",
       "1  66c67670051c039cde4b1442                 Brenalwood  {'Hygiene': 20}\n",
       "2  66c67670051c039cde4b174d              Melrose Hotel  {'Hygiene': 20}\n",
       "3  66c67670051c039cde4b193b              Seaford Pizza  {'Hygiene': 20}\n",
       "4  66c67670051c039cde4b1949              Golden Palace  {'Hygiene': 20}\n",
       "5  66c67670051c039cde4b22e1           Ashby's Butchers  {'Hygiene': 20}\n",
       "6  66c67670051c039cde4b2506  South Sea Express Cuisine  {'Hygiene': 20}\n",
       "7  66c67670051c039cde4b3a34              Golden Palace  {'Hygiene': 20}\n",
       "8  66c67670051c039cde4b3e78             The Tulip Tree  {'Hygiene': 20}\n",
       "9  66c67670051c039cde4b468b                      F & S  {'Hygiene': 20}"
      ]
     },
     "execution_count": 153,
     "metadata": {},
     "output_type": "execute_result"
    }
   ],
   "source": [
    "# Convert the result to a Pandas DataFrame\n",
    "hygiene_df = pd.DataFrame(list(results))\n",
    "\n",
    "# Display the number of rows in the DataFrame\n",
    "print(f\"Total rows in DataFrame: {len(hygiene_df)}\")\n",
    "\n",
    "# Display the first 10 rows of the DataFrame\n",
    "hygiene_df.head(10)\n"
   ]
  },
  {
   "cell_type": "markdown",
   "id": "0ef4395a",
   "metadata": {},
   "source": [
    "### 2. Which establishments in London have a `RatingValue` greater than or equal to 4?"
   ]
  },
  {
   "cell_type": "code",
   "execution_count": 161,
   "id": "8bb17716",
   "metadata": {},
   "outputs": [
    {
     "name": "stdout",
     "output_type": "stream",
     "text": [
      "\n",
      "Number of documents with RatingValue >= 4 in London: 33\n",
      "\n",
      "{'BusinessName': \"Charlie's\",\n",
      " 'LocalAuthorityName': 'City of London Corporation',\n",
      " 'RatingValue': 4,\n",
      " '_id': ObjectId('66c67670051c039cde4b2ad9')}\n"
     ]
    }
   ],
   "source": [
    "# Find the establishments with London as the Local Authority and has a RatingValue greater than or equal to 4.\n",
    "london_query = {\n",
    "    'LocalAuthorityName': {'$regex': 'London'},\n",
    "    'RatingValue': {'$gte': 4}\n",
    "}\n",
    "london_fields = {'BusinessName': 1, 'LocalAuthorityName': 1, 'RatingValue': 1}\n",
    "\n",
    "# Use count_documents to display the number of documents in the result\n",
    "london_results = establishments.find(london_query, london_fields)\n",
    "london_count = establishments.count_documents(london_query)\n",
    "\n",
    "# Display the first document in the results using pprint\n",
    "print(f\"\\nNumber of documents with RatingValue >= 4 in London: {london_count}\\n\")\n",
    "pprint(london_results[0])"
   ]
  },
  {
   "cell_type": "code",
   "execution_count": 162,
   "id": "07e24ccb",
   "metadata": {},
   "outputs": [
    {
     "name": "stdout",
     "output_type": "stream",
     "text": [
      "Total rows in DataFrame: 33\n"
     ]
    },
    {
     "data": {
      "text/html": [
       "<div>\n",
       "<style scoped>\n",
       "    .dataframe tbody tr th:only-of-type {\n",
       "        vertical-align: middle;\n",
       "    }\n",
       "\n",
       "    .dataframe tbody tr th {\n",
       "        vertical-align: top;\n",
       "    }\n",
       "\n",
       "    .dataframe thead th {\n",
       "        text-align: right;\n",
       "    }\n",
       "</style>\n",
       "<table border=\"1\" class=\"dataframe\">\n",
       "  <thead>\n",
       "    <tr style=\"text-align: right;\">\n",
       "      <th></th>\n",
       "      <th>_id</th>\n",
       "      <th>BusinessName</th>\n",
       "      <th>RatingValue</th>\n",
       "      <th>LocalAuthorityName</th>\n",
       "    </tr>\n",
       "  </thead>\n",
       "  <tbody>\n",
       "    <tr>\n",
       "      <th>0</th>\n",
       "      <td>66c67670051c039cde4b2ad9</td>\n",
       "      <td>Charlie's</td>\n",
       "      <td>4</td>\n",
       "      <td>City of London Corporation</td>\n",
       "    </tr>\n",
       "    <tr>\n",
       "      <th>1</th>\n",
       "      <td>66c67670051c039cde4b2e02</td>\n",
       "      <td>Mv City Cruises Erasmus</td>\n",
       "      <td>5</td>\n",
       "      <td>City of London Corporation</td>\n",
       "    </tr>\n",
       "    <tr>\n",
       "      <th>2</th>\n",
       "      <td>66c67670051c039cde4b394f</td>\n",
       "      <td>Benfleet Motor Yacht Club</td>\n",
       "      <td>4</td>\n",
       "      <td>City of London Corporation</td>\n",
       "    </tr>\n",
       "    <tr>\n",
       "      <th>3</th>\n",
       "      <td>66c67670051c039cde4b474c</td>\n",
       "      <td>Coombs Catering t/a The Lock and Key</td>\n",
       "      <td>5</td>\n",
       "      <td>City of London Corporation</td>\n",
       "    </tr>\n",
       "    <tr>\n",
       "      <th>4</th>\n",
       "      <td>66c67670051c039cde4b474d</td>\n",
       "      <td>Tilbury Seafarers Centre</td>\n",
       "      <td>5</td>\n",
       "      <td>City of London Corporation</td>\n",
       "    </tr>\n",
       "    <tr>\n",
       "      <th>5</th>\n",
       "      <td>66c67670051c039cde4b4e58</td>\n",
       "      <td>Mv Valulla</td>\n",
       "      <td>5</td>\n",
       "      <td>City of London Corporation</td>\n",
       "    </tr>\n",
       "    <tr>\n",
       "      <th>6</th>\n",
       "      <td>66c67670051c039cde4b6f62</td>\n",
       "      <td>Tereza Joanne</td>\n",
       "      <td>5</td>\n",
       "      <td>City of London Corporation</td>\n",
       "    </tr>\n",
       "    <tr>\n",
       "      <th>7</th>\n",
       "      <td>66c67670051c039cde4b7330</td>\n",
       "      <td>Brick Lane Brews</td>\n",
       "      <td>4</td>\n",
       "      <td>City of London Corporation</td>\n",
       "    </tr>\n",
       "    <tr>\n",
       "      <th>8</th>\n",
       "      <td>66c67670051c039cde4b7347</td>\n",
       "      <td>The Nuance Group (UK) Limited</td>\n",
       "      <td>5</td>\n",
       "      <td>City of London Corporation</td>\n",
       "    </tr>\n",
       "    <tr>\n",
       "      <th>9</th>\n",
       "      <td>66c67670051c039cde4b7348</td>\n",
       "      <td>WH Smith</td>\n",
       "      <td>5</td>\n",
       "      <td>City of London Corporation</td>\n",
       "    </tr>\n",
       "  </tbody>\n",
       "</table>\n",
       "</div>"
      ],
      "text/plain": [
       "                        _id                          BusinessName  \\\n",
       "0  66c67670051c039cde4b2ad9                             Charlie's   \n",
       "1  66c67670051c039cde4b2e02               Mv City Cruises Erasmus   \n",
       "2  66c67670051c039cde4b394f             Benfleet Motor Yacht Club   \n",
       "3  66c67670051c039cde4b474c  Coombs Catering t/a The Lock and Key   \n",
       "4  66c67670051c039cde4b474d              Tilbury Seafarers Centre   \n",
       "5  66c67670051c039cde4b4e58                            Mv Valulla   \n",
       "6  66c67670051c039cde4b6f62                         Tereza Joanne   \n",
       "7  66c67670051c039cde4b7330                      Brick Lane Brews   \n",
       "8  66c67670051c039cde4b7347         The Nuance Group (UK) Limited   \n",
       "9  66c67670051c039cde4b7348                              WH Smith   \n",
       "\n",
       "   RatingValue          LocalAuthorityName  \n",
       "0            4  City of London Corporation  \n",
       "1            5  City of London Corporation  \n",
       "2            4  City of London Corporation  \n",
       "3            5  City of London Corporation  \n",
       "4            5  City of London Corporation  \n",
       "5            5  City of London Corporation  \n",
       "6            5  City of London Corporation  \n",
       "7            4  City of London Corporation  \n",
       "8            5  City of London Corporation  \n",
       "9            5  City of London Corporation  "
      ]
     },
     "execution_count": 162,
     "metadata": {},
     "output_type": "execute_result"
    }
   ],
   "source": [
    "# Convert the result to a Pandas DataFrame\n",
    "london_df = pd.DataFrame(list(london_results))\n",
    "# Display the number of rows in the DataFrame\n",
    "print(f\"Total rows in DataFrame: {len(london_df)}\")\n",
    "# Display the first 10 rows of the DataFrame\n",
    "london_df.head(10)"
   ]
  },
  {
   "attachments": {},
   "cell_type": "markdown",
   "id": "4e570caf",
   "metadata": {},
   "source": [
    "### 3. What are the top 5 establishments with a `RatingValue` rating value of 5, sorted by lowest hygiene score, nearest to the new restaurant added, \"Penang Flavours\"?"
   ]
  },
  {
   "cell_type": "code",
   "execution_count": 184,
   "id": "08445c30",
   "metadata": {},
   "outputs": [
    {
     "data": {
      "text/html": [
       "<div>\n",
       "<style scoped>\n",
       "    .dataframe tbody tr th:only-of-type {\n",
       "        vertical-align: middle;\n",
       "    }\n",
       "\n",
       "    .dataframe tbody tr th {\n",
       "        vertical-align: top;\n",
       "    }\n",
       "\n",
       "    .dataframe thead th {\n",
       "        text-align: right;\n",
       "    }\n",
       "</style>\n",
       "<table border=\"1\" class=\"dataframe\">\n",
       "  <thead>\n",
       "    <tr style=\"text-align: right;\">\n",
       "      <th></th>\n",
       "      <th>BusinessName</th>\n",
       "      <th>RatingValue</th>\n",
       "      <th>_id</th>\n",
       "      <th>latitude</th>\n",
       "      <th>longitude</th>\n",
       "      <th>Hygiene</th>\n",
       "    </tr>\n",
       "  </thead>\n",
       "  <tbody>\n",
       "    <tr>\n",
       "      <th>0</th>\n",
       "      <td>Volunteer</td>\n",
       "      <td>5</td>\n",
       "      <td>66c67670051c039cde4b691e</td>\n",
       "      <td>51.487344</td>\n",
       "      <td>0.092080</td>\n",
       "      <td>0</td>\n",
       "    </tr>\n",
       "    <tr>\n",
       "      <th>1</th>\n",
       "      <td>Lumbini Grocery Ltd T/A Al-Iman</td>\n",
       "      <td>5</td>\n",
       "      <td>66c67670051c039cde4b6938</td>\n",
       "      <td>51.487163</td>\n",
       "      <td>0.091626</td>\n",
       "      <td>0</td>\n",
       "    </tr>\n",
       "    <tr>\n",
       "      <th>2</th>\n",
       "      <td>Plumstead Manor Nursery</td>\n",
       "      <td>5</td>\n",
       "      <td>66c67670051c039cde4b6939</td>\n",
       "      <td>51.481518</td>\n",
       "      <td>0.085994</td>\n",
       "      <td>0</td>\n",
       "    </tr>\n",
       "    <tr>\n",
       "      <th>3</th>\n",
       "      <td>Iceland</td>\n",
       "      <td>5</td>\n",
       "      <td>66c67670051c039cde4b68f3</td>\n",
       "      <td>51.487148</td>\n",
       "      <td>0.092420</td>\n",
       "      <td>0</td>\n",
       "    </tr>\n",
       "    <tr>\n",
       "      <th>4</th>\n",
       "      <td>Howe and Co Fish and Chips - Van 17</td>\n",
       "      <td>5</td>\n",
       "      <td>66c67670051c039cde4b6904</td>\n",
       "      <td>51.487534</td>\n",
       "      <td>0.092537</td>\n",
       "      <td>0</td>\n",
       "    </tr>\n",
       "  </tbody>\n",
       "</table>\n",
       "</div>"
      ],
      "text/plain": [
       "                          BusinessName  RatingValue                       _id  \\\n",
       "0                            Volunteer            5  66c67670051c039cde4b691e   \n",
       "1      Lumbini Grocery Ltd T/A Al-Iman            5  66c67670051c039cde4b6938   \n",
       "2              Plumstead Manor Nursery            5  66c67670051c039cde4b6939   \n",
       "3                              Iceland            5  66c67670051c039cde4b68f3   \n",
       "4  Howe and Co Fish and Chips - Van 17            5  66c67670051c039cde4b6904   \n",
       "\n",
       "    latitude  longitude  Hygiene  \n",
       "0  51.487344   0.092080        0  \n",
       "1  51.487163   0.091626        0  \n",
       "2  51.481518   0.085994        0  \n",
       "3  51.487148   0.092420        0  \n",
       "4  51.487534   0.092537        0  "
      ]
     },
     "execution_count": 184,
     "metadata": {},
     "output_type": "execute_result"
    }
   ],
   "source": [
    "# Search within 0.01 degree on either side of the latitude and longitude.\n",
    "# Rating value must equal 5\n",
    "# Sort by hygiene score\n",
    "penang_query = {'BusinessName': 'Penang Flavours'}\n",
    "penang_fields = {\n",
    "    'BusinessName': 1, \n",
    "    'geocode.latitude': 1, \n",
    "    'geocode.longitude': 1,\n",
    "    'RatingValue': 1,  # Include RatingValue in the fields\n",
    "    'scores.Hygiene': 1  # Include Hygiene scores in the fields\n",
    "}\n",
    "penang_location = establishments.find_one(penang_query, penang_fields)\n",
    "\n",
    "# Define the search range and query for nearby establishments\n",
    "degree_margin = 0.01\n",
    "latitude = penang_location['geocode']['latitude']\n",
    "longitude = penang_location['geocode']['longitude']\n",
    "\n",
    "top5_query = {\n",
    "    'RatingValue': 5,\n",
    "    'geocode.latitude': {'$gte': latitude - degree_margin, '$lte': latitude + degree_margin},\n",
    "    'geocode.longitude': {'$gte': longitude - degree_margin, '$lte': longitude + degree_margin},\n",
    "    'scores.Hygiene': {'$ne': None}\n",
    "}\n",
    "top5_sort = [('scores.Hygiene', 1)]\n",
    "\n",
    "# Fetch and sort the top 5 results\n",
    "top5_results = establishments.find(top5_query, penang_fields).sort(top5_sort).limit(5)\n",
    "\n",
    "# Collect data for DataFrame conversion\n",
    "top5_data = []\n",
    "for establishment in top5_results:\n",
    "    top5_data.append({\n",
    "        'BusinessName': establishment.get('BusinessName', 'N/A'),\n",
    "        'RatingValue': establishment.get('RatingValue', 'N/A'),\n",
    "        '_id': establishment.get('_id', 'N/A'),\n",
    "        'latitude': establishment.get('geocode', {}).get('latitude', 'N/A'),\n",
    "        'longitude': establishment.get('geocode', {}).get('longitude', 'N/A'),\n",
    "        'Hygiene': establishment.get('scores', {}).get('Hygiene', 'N/A')\n",
    "    })\n",
    "\n",
    "top5_df = pd.DataFrame(top5_data)\n",
    "#pprint(top5_df)\n",
    "top5_df.head(5)\n"
   ]
  },
  {
   "cell_type": "markdown",
   "id": "67281254",
   "metadata": {},
   "source": [
    "### 4. How many establishments in each Local Authority area have a hygiene score of 0?"
   ]
  },
  {
   "cell_type": "code",
   "execution_count": 185,
   "id": "4eeb227e",
   "metadata": {},
   "outputs": [
    {
     "name": "stdout",
     "output_type": "stream",
     "text": [
      "[{'_id': 'Thanet', 'count': 1130},\n",
      " {'_id': 'Greenwich', 'count': 882},\n",
      " {'_id': 'Maidstone', 'count': 713},\n",
      " {'_id': 'Newham', 'count': 711},\n",
      " {'_id': 'Swale', 'count': 686},\n",
      " {'_id': 'Chelmsford', 'count': 680},\n",
      " {'_id': 'Medway', 'count': 672},\n",
      " {'_id': 'Bexley', 'count': 607},\n",
      " {'_id': 'Southend-On-Sea', 'count': 586},\n",
      " {'_id': 'Tendring', 'count': 542}]\n"
     ]
    }
   ],
   "source": [
    "# Create a pipeline that:\n",
    "# 1. Matches establishments with a hygiene score of 0\n",
    "# 2. Groups the matches by Local Authority\n",
    "# 3. Sorts the matches from highest to lowest\n",
    "pipeline = [\n",
    "        {\"$match\": {\"scores.Hygiene\": 0}},\n",
    "        {\"$group\": {\"_id\": \"$LocalAuthorityName\", \"count\": {\"$sum\": 1}}},\n",
    "         {\"$sort\": {\"count\": -1}}\n",
    "         \n",
    "         ]\n",
    "# Print the number of documents in the result\n",
    "results = list(establishments.aggregate(pipeline))\n",
    "# Print the first 10 results\n",
    "pprint(results[0:10])"
   ]
  },
  {
   "cell_type": "code",
   "execution_count": 159,
   "id": "d8aab364",
   "metadata": {},
   "outputs": [
    {
     "name": "stdout",
     "output_type": "stream",
     "text": [
      "Number of rows is  55\n"
     ]
    },
    {
     "data": {
      "text/html": [
       "<div>\n",
       "<style scoped>\n",
       "    .dataframe tbody tr th:only-of-type {\n",
       "        vertical-align: middle;\n",
       "    }\n",
       "\n",
       "    .dataframe tbody tr th {\n",
       "        vertical-align: top;\n",
       "    }\n",
       "\n",
       "    .dataframe thead th {\n",
       "        text-align: right;\n",
       "    }\n",
       "</style>\n",
       "<table border=\"1\" class=\"dataframe\">\n",
       "  <thead>\n",
       "    <tr style=\"text-align: right;\">\n",
       "      <th></th>\n",
       "      <th>_id</th>\n",
       "      <th>count</th>\n",
       "    </tr>\n",
       "  </thead>\n",
       "  <tbody>\n",
       "    <tr>\n",
       "      <th>0</th>\n",
       "      <td>Thanet</td>\n",
       "      <td>1130</td>\n",
       "    </tr>\n",
       "    <tr>\n",
       "      <th>1</th>\n",
       "      <td>Greenwich</td>\n",
       "      <td>882</td>\n",
       "    </tr>\n",
       "    <tr>\n",
       "      <th>2</th>\n",
       "      <td>Maidstone</td>\n",
       "      <td>713</td>\n",
       "    </tr>\n",
       "    <tr>\n",
       "      <th>3</th>\n",
       "      <td>Newham</td>\n",
       "      <td>711</td>\n",
       "    </tr>\n",
       "    <tr>\n",
       "      <th>4</th>\n",
       "      <td>Swale</td>\n",
       "      <td>686</td>\n",
       "    </tr>\n",
       "    <tr>\n",
       "      <th>5</th>\n",
       "      <td>Chelmsford</td>\n",
       "      <td>680</td>\n",
       "    </tr>\n",
       "    <tr>\n",
       "      <th>6</th>\n",
       "      <td>Medway</td>\n",
       "      <td>672</td>\n",
       "    </tr>\n",
       "    <tr>\n",
       "      <th>7</th>\n",
       "      <td>Bexley</td>\n",
       "      <td>607</td>\n",
       "    </tr>\n",
       "    <tr>\n",
       "      <th>8</th>\n",
       "      <td>Southend-On-Sea</td>\n",
       "      <td>586</td>\n",
       "    </tr>\n",
       "    <tr>\n",
       "      <th>9</th>\n",
       "      <td>Tendring</td>\n",
       "      <td>542</td>\n",
       "    </tr>\n",
       "  </tbody>\n",
       "</table>\n",
       "</div>"
      ],
      "text/plain": [
       "               _id  count\n",
       "0           Thanet   1130\n",
       "1        Greenwich    882\n",
       "2        Maidstone    713\n",
       "3           Newham    711\n",
       "4            Swale    686\n",
       "5       Chelmsford    680\n",
       "6           Medway    672\n",
       "7           Bexley    607\n",
       "8  Southend-On-Sea    586\n",
       "9         Tendring    542"
      ]
     },
     "execution_count": 159,
     "metadata": {},
     "output_type": "execute_result"
    }
   ],
   "source": [
    "# Convert the result to a Pandas DataFrame\n",
    "result_df= pd.DataFrame(results)\n",
    "# Display the number of rows in the DataFrame\n",
    "print(\"Number of rows is \", len(result_df))\n",
    "# Display the first 10 rows of the DataFrame\n",
    "result_df.head(10)"
   ]
  }
 ],
 "metadata": {
  "kernelspec": {
   "display_name": "Python 3 (ipykernel)",
   "language": "python",
   "name": "python3"
  },
  "language_info": {
   "codemirror_mode": {
    "name": "ipython",
    "version": 3
   },
   "file_extension": ".py",
   "mimetype": "text/x-python",
   "name": "python",
   "nbconvert_exporter": "python",
   "pygments_lexer": "ipython3",
   "version": "3.11.4"
  }
 },
 "nbformat": 4,
 "nbformat_minor": 5
}
